{
 "cells": [
  {
   "cell_type": "markdown",
   "metadata": {},
   "source": [
    "# Compare Simulated Signature to Computed Signature"
   ]
  },
  {
   "cell_type": "code",
   "execution_count": 12,
   "metadata": {
    "scrolled": true
   },
   "outputs": [],
   "source": [
    "from run import *"
   ]
  },
  {
   "cell_type": "code",
   "execution_count": 14,
   "metadata": {},
   "outputs": [
    {
     "name": "stdout",
     "output_type": "stream",
     "text": [
      "[[ 0.10417845  0.99582111  0.09127341  0.14623403  0.25835144]\n",
      " [ 0.16504825  0.1825993   0.3793589   0.99057961  0.16394657]\n",
      " [ 0.99581962  0.24398022  0.14443425  0.19592815  0.07125752]\n",
      " [ 0.21923189  0.07739543  0.99410125  0.2376023   0.07139171]\n",
      " [ 0.02176412  0.24665128  0.0293496   0.14081162  0.99496616]]\n"
     ]
    }
   ],
   "source": [
    "run_synthetic_data()"
   ]
  }
 ],
 "metadata": {
  "kernelspec": {
   "display_name": "Python 3",
   "language": "python",
   "name": "python3"
  },
  "language_info": {
   "codemirror_mode": {
    "name": "ipython",
    "version": 3
   },
   "file_extension": ".py",
   "mimetype": "text/x-python",
   "name": "python",
   "nbconvert_exporter": "python",
   "pygments_lexer": "ipython3",
   "version": "3.6.2"
  }
 },
 "nbformat": 4,
 "nbformat_minor": 2
}
